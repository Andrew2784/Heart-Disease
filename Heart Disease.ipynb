{
 "cells": [
  {
   "cell_type": "markdown",
   "id": "9f8a05e9",
   "metadata": {},
   "source": [
    "# 1. Introduction"
   ]
  },
  {
   "cell_type": "code",
   "execution_count": 1,
   "id": "a3127e81",
   "metadata": {},
   "outputs": [],
   "source": [
    "# Load libraries\n",
    "import pandas as pd\n",
    "import numpy as np\n",
    "import matplotlib.pyplot as plt\n",
    "import seaborn as sns\n",
    "from scipy.stats import ttest_ind, f_oneway, chi2_contingency, randint\n",
    "from statsmodels.stats.multicomp import pairwise_tukeyhsd\n",
    "from sklearn.model_selection import train_test_split, cross_val_score, GridSearchCV, RandomizedSearchCV\n",
    "from sklearn.neighbors import KNeighborsClassifier\n",
    "from sklearn.preprocessing import StandardScaler\n",
    "from sklearn import svm, metrics\n",
    "from sklearn.ensemble import RandomForestClassifier"
   ]
  },
  {
   "cell_type": "code",
   "execution_count": 2,
   "id": "5ea0210a",
   "metadata": {},
   "outputs": [],
   "source": [
    "# Load data\n",
    "heart_data = pd.read_csv('processed.cleveland.data',header=None)\n",
    "heart_data.columns = ['age','sex','cp','trestbps','chol','fbs','restecg','thalach','exang','oldpeak','slope','ca','thal','num']"
   ]
  },
  {
   "cell_type": "code",
   "execution_count": 3,
   "id": "9689cfd9",
   "metadata": {},
   "outputs": [
    {
     "name": "stdout",
     "output_type": "stream",
     "text": [
      "<class 'pandas.core.frame.DataFrame'>\n",
      "RangeIndex: 303 entries, 0 to 302\n",
      "Data columns (total 14 columns):\n",
      " #   Column    Non-Null Count  Dtype  \n",
      "---  ------    --------------  -----  \n",
      " 0   age       303 non-null    float64\n",
      " 1   sex       303 non-null    float64\n",
      " 2   cp        303 non-null    float64\n",
      " 3   trestbps  303 non-null    float64\n",
      " 4   chol      303 non-null    float64\n",
      " 5   fbs       303 non-null    float64\n",
      " 6   restecg   303 non-null    float64\n",
      " 7   thalach   303 non-null    float64\n",
      " 8   exang     303 non-null    float64\n",
      " 9   oldpeak   303 non-null    float64\n",
      " 10  slope     303 non-null    float64\n",
      " 11  ca        303 non-null    object \n",
      " 12  thal      303 non-null    object \n",
      " 13  num       303 non-null    int64  \n",
      "dtypes: float64(11), int64(1), object(2)\n",
      "memory usage: 33.3+ KB\n"
     ]
    }
   ],
   "source": [
    "# Take a preliminary look at the data\n",
    "heart_data.info()"
   ]
  },
  {
   "cell_type": "code",
   "execution_count": 4,
   "id": "c402e740",
   "metadata": {},
   "outputs": [
    {
     "data": {
      "text/html": [
       "<div>\n",
       "<style scoped>\n",
       "    .dataframe tbody tr th:only-of-type {\n",
       "        vertical-align: middle;\n",
       "    }\n",
       "\n",
       "    .dataframe tbody tr th {\n",
       "        vertical-align: top;\n",
       "    }\n",
       "\n",
       "    .dataframe thead th {\n",
       "        text-align: right;\n",
       "    }\n",
       "</style>\n",
       "<table border=\"1\" class=\"dataframe\">\n",
       "  <thead>\n",
       "    <tr style=\"text-align: right;\">\n",
       "      <th></th>\n",
       "      <th>age</th>\n",
       "      <th>sex</th>\n",
       "      <th>cp</th>\n",
       "      <th>trestbps</th>\n",
       "      <th>chol</th>\n",
       "      <th>fbs</th>\n",
       "      <th>restecg</th>\n",
       "      <th>thalach</th>\n",
       "      <th>exang</th>\n",
       "      <th>oldpeak</th>\n",
       "      <th>slope</th>\n",
       "      <th>ca</th>\n",
       "      <th>thal</th>\n",
       "      <th>num</th>\n",
       "    </tr>\n",
       "  </thead>\n",
       "  <tbody>\n",
       "    <tr>\n",
       "      <th>0</th>\n",
       "      <td>63.0</td>\n",
       "      <td>1.0</td>\n",
       "      <td>1.0</td>\n",
       "      <td>145.0</td>\n",
       "      <td>233.0</td>\n",
       "      <td>1.0</td>\n",
       "      <td>2.0</td>\n",
       "      <td>150.0</td>\n",
       "      <td>0.0</td>\n",
       "      <td>2.3</td>\n",
       "      <td>3.0</td>\n",
       "      <td>0.0</td>\n",
       "      <td>6.0</td>\n",
       "      <td>0</td>\n",
       "    </tr>\n",
       "    <tr>\n",
       "      <th>1</th>\n",
       "      <td>67.0</td>\n",
       "      <td>1.0</td>\n",
       "      <td>4.0</td>\n",
       "      <td>160.0</td>\n",
       "      <td>286.0</td>\n",
       "      <td>0.0</td>\n",
       "      <td>2.0</td>\n",
       "      <td>108.0</td>\n",
       "      <td>1.0</td>\n",
       "      <td>1.5</td>\n",
       "      <td>2.0</td>\n",
       "      <td>3.0</td>\n",
       "      <td>3.0</td>\n",
       "      <td>2</td>\n",
       "    </tr>\n",
       "    <tr>\n",
       "      <th>2</th>\n",
       "      <td>67.0</td>\n",
       "      <td>1.0</td>\n",
       "      <td>4.0</td>\n",
       "      <td>120.0</td>\n",
       "      <td>229.0</td>\n",
       "      <td>0.0</td>\n",
       "      <td>2.0</td>\n",
       "      <td>129.0</td>\n",
       "      <td>1.0</td>\n",
       "      <td>2.6</td>\n",
       "      <td>2.0</td>\n",
       "      <td>2.0</td>\n",
       "      <td>7.0</td>\n",
       "      <td>1</td>\n",
       "    </tr>\n",
       "    <tr>\n",
       "      <th>3</th>\n",
       "      <td>37.0</td>\n",
       "      <td>1.0</td>\n",
       "      <td>3.0</td>\n",
       "      <td>130.0</td>\n",
       "      <td>250.0</td>\n",
       "      <td>0.0</td>\n",
       "      <td>0.0</td>\n",
       "      <td>187.0</td>\n",
       "      <td>0.0</td>\n",
       "      <td>3.5</td>\n",
       "      <td>3.0</td>\n",
       "      <td>0.0</td>\n",
       "      <td>3.0</td>\n",
       "      <td>0</td>\n",
       "    </tr>\n",
       "    <tr>\n",
       "      <th>4</th>\n",
       "      <td>41.0</td>\n",
       "      <td>0.0</td>\n",
       "      <td>2.0</td>\n",
       "      <td>130.0</td>\n",
       "      <td>204.0</td>\n",
       "      <td>0.0</td>\n",
       "      <td>2.0</td>\n",
       "      <td>172.0</td>\n",
       "      <td>0.0</td>\n",
       "      <td>1.4</td>\n",
       "      <td>1.0</td>\n",
       "      <td>0.0</td>\n",
       "      <td>3.0</td>\n",
       "      <td>0</td>\n",
       "    </tr>\n",
       "  </tbody>\n",
       "</table>\n",
       "</div>"
      ],
      "text/plain": [
       "    age  sex   cp  trestbps   chol  fbs  restecg  thalach  exang  oldpeak  \\\n",
       "0  63.0  1.0  1.0     145.0  233.0  1.0      2.0    150.0    0.0      2.3   \n",
       "1  67.0  1.0  4.0     160.0  286.0  0.0      2.0    108.0    1.0      1.5   \n",
       "2  67.0  1.0  4.0     120.0  229.0  0.0      2.0    129.0    1.0      2.6   \n",
       "3  37.0  1.0  3.0     130.0  250.0  0.0      0.0    187.0    0.0      3.5   \n",
       "4  41.0  0.0  2.0     130.0  204.0  0.0      2.0    172.0    0.0      1.4   \n",
       "\n",
       "   slope   ca thal  num  \n",
       "0    3.0  0.0  6.0    0  \n",
       "1    2.0  3.0  3.0    2  \n",
       "2    2.0  2.0  7.0    1  \n",
       "3    3.0  0.0  3.0    0  \n",
       "4    1.0  0.0  3.0    0  "
      ]
     },
     "execution_count": 4,
     "metadata": {},
     "output_type": "execute_result"
    }
   ],
   "source": [
    "heart_data.head()"
   ]
  },
  {
   "cell_type": "markdown",
   "id": "5fb548ab",
   "metadata": {},
   "source": [
    "At first glance, it appears that the data looks clean. However, the data repository states that the 'ca' and 'thal' columns have missing values so we'll take a closer look at these columns."
   ]
  },
  {
   "cell_type": "code",
   "execution_count": 5,
   "id": "939d2f79",
   "metadata": {},
   "outputs": [
    {
     "data": {
      "text/plain": [
       "0.0    176\n",
       "1.0     65\n",
       "2.0     38\n",
       "3.0     20\n",
       "?        4\n",
       "Name: ca, dtype: int64"
      ]
     },
     "execution_count": 5,
     "metadata": {},
     "output_type": "execute_result"
    }
   ],
   "source": [
    "heart_data['ca'].value_counts()"
   ]
  },
  {
   "cell_type": "code",
   "execution_count": 6,
   "id": "a268c07d",
   "metadata": {},
   "outputs": [
    {
     "data": {
      "text/plain": [
       "3.0    166\n",
       "7.0    117\n",
       "6.0     18\n",
       "?        2\n",
       "Name: thal, dtype: int64"
      ]
     },
     "execution_count": 6,
     "metadata": {},
     "output_type": "execute_result"
    }
   ],
   "source": [
    "heart_data['thal'].value_counts()"
   ]
  },
  {
   "cell_type": "markdown",
   "id": "e9298988",
   "metadata": {},
   "source": [
    "It appears that there are some '?' values in these two columns. There are a few ways we can deal with this. One possible way would be to drop the rows with the '?' values. Another possible way would be to replace the '?' values with the mean, median, or mode of the column. To preserve the data, I will replace the '?' values with the mode of the column."
   ]
  },
  {
   "cell_type": "markdown",
   "id": "1b7acc86",
   "metadata": {},
   "source": [
    "# 2. Cleaning the data"
   ]
  },
  {
   "cell_type": "code",
   "execution_count": 7,
   "id": "9a452433",
   "metadata": {},
   "outputs": [],
   "source": [
    "heart_data['ca'].replace('?',str(0.0),inplace=True)"
   ]
  },
  {
   "cell_type": "code",
   "execution_count": 8,
   "id": "c5cf34cf",
   "metadata": {},
   "outputs": [
    {
     "data": {
      "text/plain": [
       "0.0    180\n",
       "1.0     65\n",
       "2.0     38\n",
       "3.0     20\n",
       "Name: ca, dtype: int64"
      ]
     },
     "execution_count": 8,
     "metadata": {},
     "output_type": "execute_result"
    }
   ],
   "source": [
    "heart_data['ca'].value_counts()"
   ]
  },
  {
   "cell_type": "code",
   "execution_count": 9,
   "id": "fd315615",
   "metadata": {},
   "outputs": [],
   "source": [
    "heart_data['thal'].replace('?',str(3.0),inplace=True)"
   ]
  },
  {
   "cell_type": "code",
   "execution_count": 10,
   "id": "41047b70",
   "metadata": {},
   "outputs": [
    {
     "data": {
      "text/plain": [
       "3.0    168\n",
       "7.0    117\n",
       "6.0     18\n",
       "Name: thal, dtype: int64"
      ]
     },
     "execution_count": 10,
     "metadata": {},
     "output_type": "execute_result"
    }
   ],
   "source": [
    "heart_data['thal'].value_counts()"
   ]
  },
  {
   "cell_type": "markdown",
   "id": "ba3397a8",
   "metadata": {},
   "source": [
    "The '?' values have been replaced with the mode of the column. Now we can check the data types of each column to make sure they are in the right format."
   ]
  },
  {
   "cell_type": "code",
   "execution_count": 11,
   "id": "89ed3864",
   "metadata": {},
   "outputs": [
    {
     "data": {
      "text/plain": [
       "age         float64\n",
       "sex         float64\n",
       "cp          float64\n",
       "trestbps    float64\n",
       "chol        float64\n",
       "fbs         float64\n",
       "restecg     float64\n",
       "thalach     float64\n",
       "exang       float64\n",
       "oldpeak     float64\n",
       "slope       float64\n",
       "ca           object\n",
       "thal         object\n",
       "num           int64\n",
       "dtype: object"
      ]
     },
     "execution_count": 11,
     "metadata": {},
     "output_type": "execute_result"
    }
   ],
   "source": [
    "heart_data.dtypes"
   ]
  },
  {
   "cell_type": "markdown",
   "id": "3462062c",
   "metadata": {},
   "source": [
    "We can convert the 'ca' and 'thal' columns from object to float to be able to do mathamatical calculations on them."
   ]
  },
  {
   "cell_type": "code",
   "execution_count": 12,
   "id": "f86798fa",
   "metadata": {},
   "outputs": [],
   "source": [
    "heart_data['ca'] = heart_data['ca'].astype(float)\n",
    "heart_data['thal'] = heart_data['thal'].astype(float)"
   ]
  },
  {
   "cell_type": "markdown",
   "id": "bd12e724",
   "metadata": {},
   "source": [
    "We can check again to make sure the data types are correct."
   ]
  },
  {
   "cell_type": "code",
   "execution_count": 13,
   "id": "32b6c6d7",
   "metadata": {},
   "outputs": [
    {
     "data": {
      "text/plain": [
       "age         float64\n",
       "sex         float64\n",
       "cp          float64\n",
       "trestbps    float64\n",
       "chol        float64\n",
       "fbs         float64\n",
       "restecg     float64\n",
       "thalach     float64\n",
       "exang       float64\n",
       "oldpeak     float64\n",
       "slope       float64\n",
       "ca          float64\n",
       "thal        float64\n",
       "num           int64\n",
       "dtype: object"
      ]
     },
     "execution_count": 13,
     "metadata": {},
     "output_type": "execute_result"
    }
   ],
   "source": [
    "heart_data.dtypes"
   ]
  },
  {
   "cell_type": "markdown",
   "id": "3a1eb395",
   "metadata": {},
   "source": [
    "# 3. Exploratory Data Analysis"
   ]
  },
  {
   "cell_type": "markdown",
   "id": "80b319e2",
   "metadata": {},
   "source": [
    "We will modify the heart_data dataframe in a new dataframe to perform EDA."
   ]
  },
  {
   "cell_type": "code",
   "execution_count": 14,
   "id": "106bc88f",
   "metadata": {},
   "outputs": [],
   "source": [
    "heart_copy = heart_data.copy()"
   ]
  },
  {
   "cell_type": "code",
   "execution_count": 15,
   "id": "be805ba2",
   "metadata": {},
   "outputs": [],
   "source": [
    "heart_copy['sex'] = heart_copy['sex'].replace([1.0,0.0],['Male','Female'])\n",
    "heart_copy['cp'] = heart_copy['cp'].replace([1.0,2.0,3.0,4.0],['Typical Angina','Atypical Angina','Non-anginal Pain','Asymptomatic'])\n",
    "heart_copy.rename(columns={'num':'heart_disease'},inplace=True)\n",
    "heart_copy['heart_disease'] = heart_copy['heart_disease'].replace([0,1,2,3,4],['Absence','Presence','Presence','Presence','Presence'])"
   ]
  },
  {
   "cell_type": "markdown",
   "id": "ce162796",
   "metadata": {},
   "source": [
    "Now that the data is ready for EDA, the first question we will ask is if there is an association between thalach and whether a person will be diagnosed with heart disease."
   ]
  },
  {
   "cell_type": "code",
   "execution_count": 16,
   "id": "dd658a5d",
   "metadata": {},
   "outputs": [
    {
     "data": {
      "image/png": "[encoded data removed]",
      "text/plain": [
       "<Figure size 432x288 with 1 Axes>"
      ]
     },
     "metadata": {
      "needs_background": "light"
     },
     "output_type": "display_data"
    }
   ],
   "source": [
    "sns.boxplot(x='heart_disease',y='thalach',data=heart_copy)\n",
    "plt.show()"
   ]
  },
  {
   "cell_type": "markdown",
   "id": "7cb516d5",
   "metadata": {},
   "source": [
    "From the boxplot, it appears that thalach (the maximum heartrate achieved during the test) may be associated with whether a person may be diagnosed with heart disease. We will investigate this further."
   ]
  },
  {
   "cell_type": "code",
   "execution_count": 17,
   "id": "44cff2f1",
   "metadata": {},
   "outputs": [],
   "source": [
    "thalach_hd = heart_copy[heart_copy.heart_disease == 'Presence']['thalach']\n",
    "thalach_no_hd = heart_copy[heart_copy.heart_disease == 'Absence']['thalach']"
   ]
  },
  {
   "cell_type": "code",
   "execution_count": 18,
   "id": "3f930b9d",
   "metadata": {},
   "outputs": [
    {
     "data": {
      "text/plain": [
       "'Mean difference: -19.11905597473242'"
      ]
     },
     "execution_count": 18,
     "metadata": {},
     "output_type": "execute_result"
    }
   ],
   "source": [
    "'Mean difference: ' + str(np.mean(thalach_hd) - np.mean(thalach_no_hd))"
   ]
  },
  {
   "cell_type": "code",
   "execution_count": 19,
   "id": "fd1ee332",
   "metadata": {},
   "outputs": [
    {
     "data": {
      "text/plain": [
       "'Median difference: -19.0'"
      ]
     },
     "execution_count": 19,
     "metadata": {},
     "output_type": "execute_result"
    }
   ],
   "source": [
    "'Median difference: ' + str(np.median(thalach_hd) - np.median(thalach_no_hd))"
   ]
  },
  {
   "cell_type": "markdown",
   "id": "8ab3e852",
   "metadata": {},
   "source": [
    "It appears that there may be a significant difference between the average thalach for people with heart disease and people without heart disease. We will conduct a two-sample t-test to confirm if there is a difference."
   ]
  },
  {
   "cell_type": "code",
   "execution_count": 20,
   "id": "64bd34f6",
   "metadata": {},
   "outputs": [
    {
     "data": {
      "text/plain": [
       "3.456964908430172e-14"
      ]
     },
     "execution_count": 20,
     "metadata": {},
     "output_type": "execute_result"
    }
   ],
   "source": [
    "t_stat,pval = ttest_ind(thalach_hd,thalach_no_hd)\n",
    "pval"
   ]
  },
  {
   "cell_type": "markdown",
   "id": "5f80cd27",
   "metadata": {},
   "source": [
    "Since this p-value is much smaller than the threshold of 0.05, we can reject the null hypothesis and conclude that there is a significant difference in average thalach for people with heart disease compared with people with no heart disease. We will perform the same process now for the chol variable."
   ]
  },
  {
   "cell_type": "code",
   "execution_count": 21,
   "id": "8799cb5a",
   "metadata": {},
   "outputs": [
    {
     "data": {
      "image/png": "[encoded data removed]",
      "text/plain": [
       "<Figure size 432x288 with 1 Axes>"
      ]
     },
     "metadata": {
      "needs_background": "light"
     },
     "output_type": "display_data"
    }
   ],
   "source": [
    "sns.boxplot(x='heart_disease',y='chol',data=heart_copy)\n",
    "plt.show()"
   ]
  },
  {
   "cell_type": "code",
   "execution_count": 22,
   "id": "bc46828d",
   "metadata": {},
   "outputs": [],
   "source": [
    "chol_hd = heart_copy[heart_copy.heart_disease == 'Presence']['chol']\n",
    "chol_no_hd = heart_copy[heart_copy.heart_disease == 'Absence']['chol']"
   ]
  },
  {
   "cell_type": "code",
   "execution_count": 23,
   "id": "05aa5dc0",
   "metadata": {},
   "outputs": [
    {
     "data": {
      "text/plain": [
       "'Mean difference: 8.834576241445887'"
      ]
     },
     "execution_count": 23,
     "metadata": {},
     "output_type": "execute_result"
    }
   ],
   "source": [
    "'Mean difference: ' + str(np.mean(chol_hd) - np.mean(chol_no_hd))"
   ]
  },
  {
   "cell_type": "code",
   "execution_count": 24,
   "id": "44fcb42b",
   "metadata": {},
   "outputs": [
    {
     "data": {
      "text/plain": [
       "'Median difference: 14.5'"
      ]
     },
     "execution_count": 24,
     "metadata": {},
     "output_type": "execute_result"
    }
   ],
   "source": [
    "'Median difference: ' + str(np.median(chol_hd) - np.median(chol_no_hd))"
   ]
  },
  {
   "cell_type": "code",
   "execution_count": 25,
   "id": "83091343",
   "metadata": {},
   "outputs": [
    {
     "data": {
      "text/plain": [
       "0.13914167020436527"
      ]
     },
     "execution_count": 25,
     "metadata": {},
     "output_type": "execute_result"
    }
   ],
   "source": [
    "t_stat2,pval2 = ttest_ind(chol_hd,chol_no_hd)\n",
    "pval2"
   ]
  },
  {
   "cell_type": "markdown",
   "id": "91a74a45",
   "metadata": {},
   "source": [
    "This p-value we obtained is greater than the threshold value of 0.05. Thus, we can conclude that there is no significant difference in cholesterol levels for people with heart disease compared with people with no heart disease."
   ]
  },
  {
   "cell_type": "markdown",
   "id": "3d7fa41d",
   "metadata": {},
   "source": [
    "Next, we will investigate the relationship between thalach and the type of chest pain (cp) a patient experiences."
   ]
  },
  {
   "cell_type": "code",
   "execution_count": 26,
   "id": "241d6495",
   "metadata": {},
   "outputs": [
    {
     "data": {
      "image/png": "[encoded data removed]",
      "text/plain": [
       "<Figure size 432x288 with 1 Axes>"
      ]
     },
     "metadata": {
      "needs_background": "light"
     },
     "output_type": "display_data"
    }
   ],
   "source": [
    "sns.boxplot(x='cp',y='thalach',data=heart_copy)\n",
    "plt.xticks(rotation=30)\n",
    "plt.show()"
   ]
  },
  {
   "cell_type": "markdown",
   "id": "f24849e7",
   "metadata": {},
   "source": [
    "It appears that there may be differences in thalach between the different types of chest pains a patient experiences. We will investigate this further."
   ]
  },
  {
   "cell_type": "code",
   "execution_count": 27,
   "id": "dceea109",
   "metadata": {},
   "outputs": [],
   "source": [
    "thalach_typical = heart_copy[heart_copy['cp'] == 'Typical Angina']['thalach']\n",
    "thalach_asymptom = heart_copy[heart_copy['cp'] == 'Asymptomatic']['thalach']\n",
    "thalach_nonangin = heart_copy[heart_copy['cp'] == 'Non-anginal Pain']['thalach']\n",
    "thalach_atypical = heart_copy[heart_copy['cp'] == 'Atypical Angina']['thalach']"
   ]
  },
  {
   "cell_type": "code",
   "execution_count": 28,
   "id": "76788508",
   "metadata": {},
   "outputs": [
    {
     "data": {
      "text/plain": [
       "1.9065505247705008e-10"
      ]
     },
     "execution_count": 28,
     "metadata": {},
     "output_type": "execute_result"
    }
   ],
   "source": [
    "f_stat,pval3 = f_oneway(thalach_typical,thalach_asymptom,thalach_nonangin,thalach_atypical)\n",
    "pval3"
   ]
  },
  {
   "cell_type": "markdown",
   "id": "81473064",
   "metadata": {},
   "source": [
    "We ran AVONA and got a p-value less than 0.05. Thus, we can conclude that there is at least one group of chest pain categories for which people have significantly different thalach values. To find out which pairs are significantly different, we will conduct a post-hoc test such as a pairwise Tukey's HSD test."
   ]
  },
  {
   "cell_type": "code",
   "execution_count": 29,
   "id": "f976735b",
   "metadata": {},
   "outputs": [
    {
     "name": "stdout",
     "output_type": "stream",
     "text": [
      "           Multiple Comparison of Means - Tukey HSD, FWER=0.05           \n",
      "=========================================================================\n",
      "     group1           group2      meandiff p-adj   lower    upper  reject\n",
      "-------------------------------------------------------------------------\n",
      "    Asymptomatic  Atypical Angina  21.7394  0.001  12.7439  30.735   True\n",
      "    Asymptomatic Non-anginal Pain  14.7264  0.001    7.258 22.1948   True\n",
      "    Asymptomatic   Typical Angina   15.276 0.0081   2.9702 27.5817   True\n",
      " Atypical Angina Non-anginal Pain   -7.013 0.2481 -16.7591   2.733  False\n",
      " Atypical Angina   Typical Angina  -6.4635 0.6069 -20.2707  7.3438  False\n",
      "Non-anginal Pain   Typical Angina   0.5495    0.9  -12.315 13.4141  False\n",
      "-------------------------------------------------------------------------\n"
     ]
    }
   ],
   "source": [
    "results = pairwise_tukeyhsd(endog = heart_copy.thalach,groups=heart_copy.cp)\n",
    "print(results)"
   ]
  },
  {
   "cell_type": "markdown",
   "id": "454ee4f2",
   "metadata": {},
   "source": [
    "It appears that there is a significant difference in thalach levels for people with Asymptomatic and Atypical Angina, Asymptomatic and Non-anginal Pain, and Asymptomatic and Typical Angina. These results make sense given the box plot."
   ]
  },
  {
   "cell_type": "markdown",
   "id": "2a69fbed",
   "metadata": {},
   "source": [
    "The last question we will ask before we move onto machine learning is if there is an association between the type of chest pain a patient experiences and whether they have heart disease or not."
   ]
  },
  {
   "cell_type": "code",
   "execution_count": 30,
   "id": "e8425477",
   "metadata": {},
   "outputs": [
    {
     "data": {
      "text/html": [
       "<div>\n",
       "<style scoped>\n",
       "    .dataframe tbody tr th:only-of-type {\n",
       "        vertical-align: middle;\n",
       "    }\n",
       "\n",
       "    .dataframe tbody tr th {\n",
       "        vertical-align: top;\n",
       "    }\n",
       "\n",
       "    .dataframe thead th {\n",
       "        text-align: right;\n",
       "    }\n",
       "</style>\n",
       "<table border=\"1\" class=\"dataframe\">\n",
       "  <thead>\n",
       "    <tr style=\"text-align: right;\">\n",
       "      <th>heart_disease</th>\n",
       "      <th>Absence</th>\n",
       "      <th>Presence</th>\n",
       "    </tr>\n",
       "    <tr>\n",
       "      <th>cp</th>\n",
       "      <th></th>\n",
       "      <th></th>\n",
       "    </tr>\n",
       "  </thead>\n",
       "  <tbody>\n",
       "    <tr>\n",
       "      <th>Asymptomatic</th>\n",
       "      <td>39</td>\n",
       "      <td>105</td>\n",
       "    </tr>\n",
       "    <tr>\n",
       "      <th>Atypical Angina</th>\n",
       "      <td>41</td>\n",
       "      <td>9</td>\n",
       "    </tr>\n",
       "    <tr>\n",
       "      <th>Non-anginal Pain</th>\n",
       "      <td>68</td>\n",
       "      <td>18</td>\n",
       "    </tr>\n",
       "    <tr>\n",
       "      <th>Typical Angina</th>\n",
       "      <td>16</td>\n",
       "      <td>7</td>\n",
       "    </tr>\n",
       "  </tbody>\n",
       "</table>\n",
       "</div>"
      ],
      "text/plain": [
       "heart_disease     Absence  Presence\n",
       "cp                                 \n",
       "Asymptomatic           39       105\n",
       "Atypical Angina        41         9\n",
       "Non-anginal Pain       68        18\n",
       "Typical Angina         16         7"
      ]
     },
     "execution_count": 30,
     "metadata": {},
     "output_type": "execute_result"
    }
   ],
   "source": [
    "Xtab = pd.crosstab(heart_copy.cp,heart_copy.heart_disease)\n",
    "Xtab"
   ]
  },
  {
   "cell_type": "markdown",
   "id": "6b815169",
   "metadata": {},
   "source": [
    "We have the contingency table. Now, we will conduct a chi-squared test to determine if there is an association between chest pain type and whether a person has heart disease or not."
   ]
  },
  {
   "cell_type": "code",
   "execution_count": 31,
   "id": "29042796",
   "metadata": {},
   "outputs": [
    {
     "data": {
      "text/plain": [
       "1.2517106007837527e-17"
      ]
     },
     "execution_count": 31,
     "metadata": {},
     "output_type": "execute_result"
    }
   ],
   "source": [
    "t_stat2,pval4,df,freq = chi2_contingency(Xtab)\n",
    "pval4"
   ]
  },
  {
   "cell_type": "markdown",
   "id": "5c857a28",
   "metadata": {},
   "source": [
    "This p-value is much smaller than the threshold of 0.05. Thus, we can reject the null hypothesis and conclude that there is an association between chest pain type and whether a person has heart disease or not."
   ]
  },
  {
   "cell_type": "markdown",
   "id": "740ecb69",
   "metadata": {},
   "source": [
    "# 4. Machine Learning"
   ]
  },
  {
   "cell_type": "markdown",
   "id": "13a36d06",
   "metadata": {},
   "source": [
    "To perform machine learning techniques to predict whether a person has heart disease or not, we will return to the original heart_data data set. We will have to modify the last column to have only 0s and 1s where 0 is no heart disease and 1 means the presence of heart disease."
   ]
  },
  {
   "cell_type": "code",
   "execution_count": 32,
   "id": "a468966f",
   "metadata": {},
   "outputs": [],
   "source": [
    "heart_data['num'] = heart_data['num'].replace([2,3,4],[1,1,1])"
   ]
  },
  {
   "cell_type": "markdown",
   "id": "a071be0a",
   "metadata": {},
   "source": [
    "Now we can start splitting the data into X and y."
   ]
  },
  {
   "cell_type": "code",
   "execution_count": 33,
   "id": "4cecac6f",
   "metadata": {},
   "outputs": [],
   "source": [
    "X = heart_data.drop(columns='num')\n",
    "y = heart_data['num'].values"
   ]
  },
  {
   "cell_type": "markdown",
   "id": "2fa6a319",
   "metadata": {},
   "source": [
    "Let's normalize X_train and X_test before performing KNN."
   ]
  },
  {
   "cell_type": "code",
   "execution_count": 34,
   "id": "1bc95785",
   "metadata": {},
   "outputs": [],
   "source": [
    "scaler = StandardScaler()\n",
    "X = scaler.fit_transform(X)"
   ]
  },
  {
   "cell_type": "code",
   "execution_count": 35,
   "id": "a1a0ffe6",
   "metadata": {},
   "outputs": [],
   "source": [
    "X_train, X_test, y_train, y_test = train_test_split(X,y,test_size=0.2,random_state=42,stratify=y)"
   ]
  },
  {
   "cell_type": "code",
   "execution_count": 36,
   "id": "32b7c10a",
   "metadata": {},
   "outputs": [
    {
     "data": {
      "text/plain": [
       "KNeighborsClassifier(n_neighbors=3)"
      ]
     },
     "execution_count": 36,
     "metadata": {},
     "output_type": "execute_result"
    }
   ],
   "source": [
    "knn = KNeighborsClassifier(n_neighbors = 3)\n",
    "knn.fit(X_train,y_train)"
   ]
  },
  {
   "cell_type": "markdown",
   "id": "ada64c1d",
   "metadata": {},
   "source": [
    "Now that we split the data and made a KNN classifier, we can use it to predict on the X_test data set and see how accurate this model is."
   ]
  },
  {
   "cell_type": "code",
   "execution_count": 37,
   "id": "735764be",
   "metadata": {},
   "outputs": [
    {
     "data": {
      "text/plain": [
       "array([0, 1, 0, 0, 1], dtype=int64)"
      ]
     },
     "execution_count": 37,
     "metadata": {},
     "output_type": "execute_result"
    }
   ],
   "source": [
    "knn.predict(X_test)[0:5]"
   ]
  },
  {
   "cell_type": "code",
   "execution_count": 38,
   "id": "af0ff431",
   "metadata": {},
   "outputs": [
    {
     "data": {
      "text/plain": [
       "0.8524590163934426"
      ]
     },
     "execution_count": 38,
     "metadata": {},
     "output_type": "execute_result"
    }
   ],
   "source": [
    "knn.score(X_test,y_test)"
   ]
  },
  {
   "cell_type": "markdown",
   "id": "4ce59991",
   "metadata": {},
   "source": [
    "We get an accuracy of 85.2% which is good. Let's see if we can make a better model with k-fold cross validation."
   ]
  },
  {
   "cell_type": "code",
   "execution_count": 39,
   "id": "59e70fc7",
   "metadata": {},
   "outputs": [
    {
     "data": {
      "text/plain": [
       "array([0.81967213, 0.8852459 , 0.81967213, 0.86666667, 0.78333333])"
      ]
     },
     "execution_count": 39,
     "metadata": {},
     "output_type": "execute_result"
    }
   ],
   "source": [
    "knn_cv = KNeighborsClassifier(n_neighbors = 3)\n",
    "cv_scores = cross_val_score(knn_cv,X,y,cv=5)\n",
    "cv_scores"
   ]
  },
  {
   "cell_type": "code",
   "execution_count": 40,
   "id": "3ec3bc51",
   "metadata": {},
   "outputs": [
    {
     "data": {
      "text/plain": [
       "0.8349180327868853"
      ]
     },
     "execution_count": 40,
     "metadata": {},
     "output_type": "execute_result"
    }
   ],
   "source": [
    "np.mean(cv_scores)"
   ]
  },
  {
   "cell_type": "markdown",
   "id": "d849bd60",
   "metadata": {},
   "source": [
    "We get an average accuracy of 83.5% which is less than what we got before. Let's do some hyperparameter tuning to see if that will improve accuracy."
   ]
  },
  {
   "cell_type": "code",
   "execution_count": 41,
   "id": "b70c7499",
   "metadata": {},
   "outputs": [
    {
     "data": {
      "text/plain": [
       "{'n_neighbors': 5}"
      ]
     },
     "execution_count": 41,
     "metadata": {},
     "output_type": "execute_result"
    }
   ],
   "source": [
    "knn_2 = KNeighborsClassifier()\n",
    "param_grid = {'n_neighbors':np.arange(1,30)}\n",
    "knn_gridsearch = GridSearchCV(knn_2,param_grid,cv=5)\n",
    "knn_gridsearch.fit(X,y)\n",
    "knn_gridsearch.best_params_"
   ]
  },
  {
   "cell_type": "markdown",
   "id": "13b6caac",
   "metadata": {},
   "source": [
    "We see that the optimal number of neighbors is 5. Let's see what the score is when n_neighbors=5."
   ]
  },
  {
   "cell_type": "code",
   "execution_count": 42,
   "id": "ef84bb59",
   "metadata": {},
   "outputs": [
    {
     "data": {
      "text/plain": [
       "0.8380874316939891"
      ]
     },
     "execution_count": 42,
     "metadata": {},
     "output_type": "execute_result"
    }
   ],
   "source": [
    "knn_gridsearch.best_score_"
   ]
  },
  {
   "cell_type": "markdown",
   "id": "7385b3a0",
   "metadata": {},
   "source": [
    "The accuracy has increased slightly from when we performed cross validation. This accuracy is still slightly low, so we can try another machine learning algorithm like Support Vector Machine (SVM)."
   ]
  },
  {
   "cell_type": "code",
   "execution_count": 43,
   "id": "153da3cf",
   "metadata": {},
   "outputs": [],
   "source": [
    "svm_class = svm.SVC(kernel='linear')\n",
    "svm_class.fit(X_train,y_train)\n",
    "y_pred = svm_class.predict(X_test)"
   ]
  },
  {
   "cell_type": "code",
   "execution_count": 44,
   "id": "36d7e5b8",
   "metadata": {},
   "outputs": [
    {
     "data": {
      "text/plain": [
       "0.8524590163934426"
      ]
     },
     "execution_count": 44,
     "metadata": {},
     "output_type": "execute_result"
    }
   ],
   "source": [
    "metrics.accuracy_score(y_test,y_pred)"
   ]
  },
  {
   "cell_type": "markdown",
   "id": "a8c64dca",
   "metadata": {},
   "source": [
    "The accuracy is similar to that of KNN. Let's look at the confusion matrix."
   ]
  },
  {
   "cell_type": "code",
   "execution_count": 45,
   "id": "89c70bb7",
   "metadata": {},
   "outputs": [
    {
     "data": {
      "image/png": "[encoded data removed]",
      "text/plain": [
       "<Figure size 432x288 with 2 Axes>"
      ]
     },
     "metadata": {
      "needs_background": "light"
     },
     "output_type": "display_data"
    }
   ],
   "source": [
    "cm = metrics.confusion_matrix(y_test,y_pred)\n",
    "metrics.ConfusionMatrixDisplay(confusion_matrix=cm).plot()\n",
    "plt.show()"
   ]
  },
  {
   "cell_type": "markdown",
   "id": "f6d33c12",
   "metadata": {},
   "source": [
    "The linear SVC performs reasonably well. Let's take a look at how a polynomial SVC performs."
   ]
  },
  {
   "cell_type": "code",
   "execution_count": 46,
   "id": "1574b2f7",
   "metadata": {},
   "outputs": [],
   "source": [
    "svm_class_poly = svm.SVC(kernel='poly')\n",
    "svm_class_poly.fit(X_train,y_train)\n",
    "y_pred_poly = svm_class_poly.predict(X_test)"
   ]
  },
  {
   "cell_type": "code",
   "execution_count": 47,
   "id": "5bc62e47",
   "metadata": {},
   "outputs": [
    {
     "data": {
      "text/plain": [
       "0.8688524590163934"
      ]
     },
     "execution_count": 47,
     "metadata": {},
     "output_type": "execute_result"
    }
   ],
   "source": [
    "metrics.accuracy_score(y_test,y_pred_poly)"
   ]
  },
  {
   "cell_type": "code",
   "execution_count": 48,
   "id": "14ab5920",
   "metadata": {},
   "outputs": [
    {
     "data": {
      "image/png": "[encoded data removed]",
      "text/plain": [
       "<Figure size 432x288 with 2 Axes>"
      ]
     },
     "metadata": {
      "needs_background": "light"
     },
     "output_type": "display_data"
    }
   ],
   "source": [
    "cm2 = metrics.confusion_matrix(y_test,y_pred_poly)\n",
    "metrics.ConfusionMatrixDisplay(confusion_matrix=cm2).plot()\n",
    "plt.show()"
   ]
  },
  {
   "cell_type": "markdown",
   "id": "34bf4867",
   "metadata": {},
   "source": [
    "The polynomial kernel performs slightly better than the linear kernel. The last machine learning algorithm we will try is a random forest."
   ]
  },
  {
   "cell_type": "code",
   "execution_count": 49,
   "id": "2cc07a80",
   "metadata": {},
   "outputs": [
    {
     "data": {
      "text/plain": [
       "0.9016393442622951"
      ]
     },
     "execution_count": 49,
     "metadata": {},
     "output_type": "execute_result"
    }
   ],
   "source": [
    "rf = RandomForestClassifier()\n",
    "rf.fit(X_train,y_train)\n",
    "y_pred_rf = rf.predict(X_test)\n",
    "metrics.accuracy_score(y_test,y_pred_rf)"
   ]
  },
  {
   "cell_type": "markdown",
   "id": "1000ced5",
   "metadata": {},
   "source": [
    "The accuracy is about the same as for the SVC. Let'd do some hyperparameter tuning to see if we can increase the accuracy."
   ]
  },
  {
   "cell_type": "code",
   "execution_count": 50,
   "id": "21f21886",
   "metadata": {},
   "outputs": [],
   "source": [
    "param_dict = {'n_estimators':randint(50,500),'max_depth':randint(1,20)}\n",
    "rf2 = RandomForestClassifier()\n",
    "rand_search = RandomizedSearchCV(rf2,param_distributions = param_dict,n_iter=5,cv=5)"
   ]
  },
  {
   "cell_type": "code",
   "execution_count": 51,
   "id": "6e9248ea",
   "metadata": {},
   "outputs": [
    {
     "data": {
      "text/plain": [
       "RandomizedSearchCV(cv=5, estimator=RandomForestClassifier(), n_iter=5,\n",
       "                   param_distributions={'max_depth': <scipy.stats._distn_infrastructure.rv_frozen object at 0x000001DD582DB6D0>,\n",
       "                                        'n_estimators': <scipy.stats._distn_infrastructure.rv_frozen object at 0x000001DD585B34F0>})"
      ]
     },
     "execution_count": 51,
     "metadata": {},
     "output_type": "execute_result"
    }
   ],
   "source": [
    "rand_search.fit(X_train,y_train)"
   ]
  },
  {
   "cell_type": "code",
   "execution_count": 52,
   "id": "2f119da5",
   "metadata": {},
   "outputs": [
    {
     "data": {
      "text/plain": [
       "{'max_depth': 19, 'n_estimators': 127}"
      ]
     },
     "execution_count": 52,
     "metadata": {},
     "output_type": "execute_result"
    }
   ],
   "source": [
    "rand_search.best_params_"
   ]
  },
  {
   "cell_type": "code",
   "execution_count": 53,
   "id": "5e0f2b16",
   "metadata": {},
   "outputs": [
    {
     "data": {
      "text/plain": [
       "0.8263605442176871"
      ]
     },
     "execution_count": 53,
     "metadata": {},
     "output_type": "execute_result"
    }
   ],
   "source": [
    "rand_search.best_score_"
   ]
  },
  {
   "cell_type": "markdown",
   "id": "b504651e",
   "metadata": {},
   "source": [
    "We have successfully performed a Random Forest Classification alonside KNN and SVM to predict whether a person has heart disease based on several factors."
   ]
  },
  {
   "cell_type": "markdown",
   "id": "7e1b32c9",
   "metadata": {},
   "source": [
    "# 5. Conclusion"
   ]
  },
  {
   "cell_type": "markdown",
   "id": "4be39e58",
   "metadata": {},
   "source": [
    "In conclusion, in this project we explored a heart disease data set that includes several variables for 303 patients. We cleaned the data and performed exploratory data analysis where we learned much about the relationship between several variables and whether a person has heart disease. After that, we performed machine learning algorithms including KNN, SVM, and Random Forest to predict whether a person has heart disease based on several factors. Overall, we learned much from this dataset and I believe that it was a fun and exciting project to carry out."
   ]
  }
 ],
 "metadata": {
  "kernelspec": {
   "display_name": "Python 3",
   "language": "python",
   "name": "python3"
  },
  "language_info": {
   "codemirror_mode": {
    "name": "ipython",
    "version": 3
   },
   "file_extension": ".py",
   "mimetype": "text/x-python",
   "name": "python",
   "nbconvert_exporter": "python",
   "pygments_lexer": "ipython3",
   "version": "3.8.8"
  }
 },
 "nbformat": 4,
 "nbformat_minor": 5
}
